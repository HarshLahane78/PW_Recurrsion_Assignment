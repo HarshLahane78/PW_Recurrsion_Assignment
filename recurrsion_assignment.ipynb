{
 "cells": [
  {
   "cell_type": "raw",
   "id": "2cb617f3-dd9e-439e-9f6c-1a0a8cf35085",
   "metadata": {},
   "source": [
    "The Tower of Hanoi is a classic problem that involves moving a stack of disks from one rod to another, obeying the following rules:\n",
    "\n",
    "Only one disk can be moved at a time.\n",
    "Each move consists of taking the top disk from one of the stacks and placing it on top of another stack.\n",
    "No disk may be placed on top of a smaller disk.\n",
    "The problem can be solved recursively using the following approach:\n",
    "\n",
    "Move n-1 disks from the source rod to the auxiliary rod, using the destination rod as an auxiliary.\n",
    "Move the nth disk from the source rod to the destination rod.\n",
    "Move the n-1 disks from the auxiliary rod to the destination rod, using the source rod as an auxiliary.\n",
    "\n",
    "public class TowerOfHanoi {\n",
    "\n",
    "    public static void main(String[] args) {\n",
    "        int numDisks = 3;\n",
    "        towerOfHanoi(numDisks, 'A', 'C', 'B');\n",
    "    }\n",
    "\n",
    "    public static void towerOfHanoi(int n, char source, char destination, char auxiliary) {\n",
    "        if (n == 1) {\n",
    "            System.out.println(\"Move disk 1 from rod \" + source + \" to rod \" + destination);\n",
    "            return;\n",
    "        }\n",
    "        towerOfHanoi(n - 1, source, auxiliary, destination);\n",
    "        System.out.println(\"Move disk \" + n + \" from rod \" + source + \" to rod \" + destination);\n",
    "        towerOfHanoi(n - 1, auxiliary, destination, source);\n",
    "    }\n",
    "}\n"
   ]
  },
  {
   "cell_type": "code",
   "execution_count": 3,
   "id": "a433e124-6a93-4ad1-84da-abee682d1cb2",
   "metadata": {},
   "outputs": [
    {
     "name": "stdin",
     "output_type": "stream",
     "text": [
      "Enter the number of disks :  3\n"
     ]
    },
    {
     "name": "stdout",
     "output_type": "stream",
     "text": [
      "\n",
      "\n",
      "Move disk 1 from rod A to rod C\n",
      "Move disk 2 from rod A to rod B\n",
      "Move disk 1 from rod C to rod B\n",
      "Move disk 3 from rod A to rod C\n",
      "Move disk 1 from rod B to rod A\n",
      "Move disk 2 from rod B to rod C\n",
      "Move disk 1 from rod A to rod C\n"
     ]
    }
   ],
   "source": [
    "#Tower of hanoi\n",
    "def tower_of_hanoi(n,source,destination,auxilary):\n",
    "     \n",
    "    if n == 1:\n",
    "        print(f\"Move disk 1 from rod {source} to rod {destination}\")\n",
    "        return\n",
    "    \n",
    "    tower_of_hanoi(n-1,source,auxilary,destination)\n",
    "    print(\"Move disk\", n, \"from rod\", source, \"to rod\", destination)\n",
    "    tower_of_hanoi(n-1,auxilary,destination,source)\n",
    "    \n",
    "num_disk = int(input(\"Enter the number of disks : \"))\n",
    "print(\"\\n\")\n",
    "tower_of_hanoi(num_disk,\"A\",\"C\",\"B\")"
   ]
  },
  {
   "cell_type": "code",
   "execution_count": 4,
   "id": "d65d646f-4590-46eb-b253-c33d6f2a2d17",
   "metadata": {},
   "outputs": [
    {
     "name": "stdout",
     "output_type": "stream",
     "text": [
      "3\n"
     ]
    }
   ],
   "source": [
    "def min_distance(word1, word2):\n",
    "    m, n = len(word1), len(word2)\n",
    "    dp = [[0] * (n + 1) for _ in range(m + 1)]\n",
    "\n",
    "    for i in range(m + 1):\n",
    "        dp[i][0] = i\n",
    "    for j in range(n + 1):\n",
    "        dp[0][j] = j\n",
    "\n",
    "    for i in range(1, m + 1):\n",
    "        for j in range(1, n + 1):\n",
    "            if word1[i - 1] == word2[j - 1]:\n",
    "                dp[i][j] = dp[i - 1][j - 1]\n",
    "            else:\n",
    "                dp[i][j] = min(dp[i - 1][j - 1], dp[i - 1][j], dp[i][j - 1]) + 1\n",
    "\n",
    "    return dp[m][n]\n",
    "\n",
    "word1 = \"horse\"\n",
    "word2 = \"ros\"\n",
    "print(min_distance(word1, word2))  \n"
   ]
  },
  {
   "cell_type": "code",
   "execution_count": 7,
   "id": "58be49d1-2870-4ea6-99fa-ca9558039e36",
   "metadata": {},
   "outputs": [
    {
     "name": "stdout",
     "output_type": "stream",
     "text": [
      "Max value : 22\n"
     ]
    }
   ],
   "source": [
    "def find_max(arr,n):\n",
    "    \n",
    "    if n == 1:\n",
    "        return arr[0]\n",
    "    \n",
    "    else :\n",
    "        return max(arr[n-1] , find_max(arr,n-1))\n",
    "    \n",
    "\n",
    "arr = [13, 1, -3, 22, 5]\n",
    "print(\"Max value :\", find_max(arr, len(arr)))\n",
    "\n",
    "    \n",
    "    \n",
    "    "
   ]
  },
  {
   "cell_type": "code",
   "execution_count": 10,
   "id": "279a0560-fd46-4777-8166-104c70759e3a",
   "metadata": {},
   "outputs": [
    {
     "name": "stdout",
     "output_type": "stream",
     "text": [
      "Sum of array :  120\n"
     ]
    }
   ],
   "source": [
    "def suma(arr,n):\n",
    "    \n",
    "    if n == 1:\n",
    "        return arr[0]\n",
    "    \n",
    "    else :\n",
    "        return arr[n-1] + suma(arr,n-1)\n",
    "        \n",
    "arr =  [92, 23, 15, -20, 10]\n",
    "print(\"Sum of array : \",suma(arr,len(arr)))"
   ]
  },
  {
   "cell_type": "code",
   "execution_count": 15,
   "id": "d5f84b50-f9d7-40d7-802d-771ef1f9112a",
   "metadata": {},
   "outputs": [
    {
     "name": "stdout",
     "output_type": "stream",
     "text": [
      "153 is an armstrong number\n"
     ]
    }
   ],
   "source": [
    "def is_armstrong(num) :\n",
    "    \n",
    "    num_str = str(num)\n",
    "    num_digits = len(num_str)\n",
    "    \n",
    "    armstrong_num = sum(int(digit) ** num_digits for digit in num_str)\n",
    "    \n",
    "    if num == armstrong_num :\n",
    "        return f\"{num} is an armstrong number\"\n",
    "    \n",
    "    else :\n",
    "        return f\"{num} is not an armstrong number\"\n",
    "    \n",
    "input_number = 153\n",
    "print(is_armstrong(input_number)) \n",
    "        "
   ]
  },
  {
   "cell_type": "code",
   "execution_count": null,
   "id": "33c6b3c0-d0d9-4a59-8cd4-3caa669a26f5",
   "metadata": {},
   "outputs": [],
   "source": []
  }
 ],
 "metadata": {
  "kernelspec": {
   "display_name": "Python 3 (ipykernel)",
   "language": "python",
   "name": "python3"
  },
  "language_info": {
   "codemirror_mode": {
    "name": "ipython",
    "version": 3
   },
   "file_extension": ".py",
   "mimetype": "text/x-python",
   "name": "python",
   "nbconvert_exporter": "python",
   "pygments_lexer": "ipython3",
   "version": "3.10.8"
  }
 },
 "nbformat": 4,
 "nbformat_minor": 5
}
